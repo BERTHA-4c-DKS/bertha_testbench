{
 "cells": [
  {
   "cell_type": "code",
   "execution_count": 7,
   "metadata": {},
   "outputs": [
    {
     "name": "stdout",
     "output_type": "stream",
     "text": [
      "Running system:  H2O\n",
      "  Maxthread:  5\n",
      "  Maxrun:     4\n",
      "  Sched:      dynamic\n",
      "  Model:      1\n"
     ]
    }
   ],
   "source": [
    "import os\n",
    "import shutil\n",
    "import subprocess\n",
    "\n",
    "basedir = \"./testsystems\"\n",
    "dstdir = \"./\"\n",
    "maxthread = 5\n",
    "maxrun = 4\n",
    "\n",
    "results = {}\n",
    "\n",
    "for system in os.listdir(basedir):\n",
    "    for input in os.listdir(basedir+\"/\"+system):\n",
    "        shutil.copyfile(basedir+\"/\"+system+\"/\"+input, dstdir+\"/\"+ input)\n",
    "    \n",
    "    print(\"Running system: \", system)\n",
    "    print(\"  Maxthread: \", maxthread)\n",
    "    print(\"  Maxrun:    \", maxrun)\n",
    "\n",
    "    for threadsched in [\"dynamic\", \"static\"]:\n",
    "        print(\"  Sched:     \", threadsched)\n",
    "        for model in range(1,5):\n",
    "            print(\"  Model:     \", model)\n",
    "\n",
    "            result = subprocess.run([dstdir+\"/\"+\"run.sh\", \\\n",
    "                str(maxthread),  \\\n",
    "                str(model), \\\n",
    "                threadsched,  \\\n",
    "                str(maxrun)], stdout=subprocess.PIPE)\n",
    "\n",
    "            results[system+\";\"+threadsched+\";\"+str(model)] = result.stdout\n",
    "\n",
    "            #print(result.stdout)\n",
    "            #print(result.stderr)\n",
    "\n",
    "for v in results:\n",
    "    print(results[v].decode('utf-8'))"
   ]
  }
 ],
 "metadata": {
  "kernelspec": {
   "display_name": "Python 3",
   "language": "python",
   "name": "python3"
  },
  "language_info": {
   "codemirror_mode": {
    "name": "ipython",
    "version": 3
   },
   "file_extension": ".py",
   "mimetype": "text/x-python",
   "name": "python",
   "nbconvert_exporter": "python",
   "pygments_lexer": "ipython3",
   "version": "3.8.10"
  },
  "orig_nbformat": 4,
  "vscode": {
   "interpreter": {
    "hash": "916dbcbb3f70747c44a77c7bcd40155683ae19c65e1c03b4aa3499c5328201f1"
   }
  }
 },
 "nbformat": 4,
 "nbformat_minor": 2
}
