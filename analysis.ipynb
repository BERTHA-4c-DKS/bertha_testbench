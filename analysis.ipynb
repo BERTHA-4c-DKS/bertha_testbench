Au2  Model:  1  static 
FittedDensityUnique                                 True 
FittedDensityAvgStdev         157.995763652813  +/-  0.0 
FunctionalEnergyUnique                              True 
FunctionalEnergyAvgStdev     -731.177046652443  +/-  0.0 
VxcUnique                                           True 
VxcAvgStdev                  -954.512798812227  +/-  0.0 
TotalEnergyUnique                                   True 
TotalEnergyAvgStdev          -38089.8873096438  +/-  0.0 
Name: 160, dtype: object
FittedDensityUnique                                 True 
FittedDensityAvgStdev         157.995763645005  +/-  0.0 
FunctionalEnergyUnique                              True 
FunctionalEnergyAvgStdev     -731.177046644198  +/-  0.0 
VxcUnique                                           True 
VxcAvgStdev                  -954.512798804292  +/-  0.0 
TotalEnergyUnique                                   True 
TotalEnergyAvgStdev          -38089.8873096367  +/-  0.0 
Name: 161, dtype: object
FittedDensityUnique                                 True 
FittedDensityAvgStdev         157.995763648373  +/-  0.0 
FunctionalEnergyUnique                              True 
FunctionalEnergyAvgStdev      -731.17704664692  +/-  0.0 
VxcUnique                                           True 
VxcAvgStdev                  -954.512798806934  +/-  0.0 
TotalEnergyUnique                                   True 
TotalEnergyAvgStdev          -38089.8873096368  +/-  0.0 
Name: 162, dtype: object
FittedDensityUnique                                                   False 
FittedDensityAvgStdev         157.995763649195  +/-  2.4268878814522253e-09 
FunctionalEnergyUnique                                                False 
FunctionalEnergyAvgStdev      -731.177046647089  +/-  2.906919031802079e-09 
VxcUnique                                                             False 
VxcAvgStdev                  -954.5127988070268  +/-  2.843326046255167e-09 
TotalEnergyUnique                                                     False 
TotalEnergyAvgStdev          -38089.88730964132  +/-  3.920105747440002e-09 
Name: 163, dtype: object
FittedDensityUnique                                True 
FittedDensityAvgStdev        157.995763649286  +/-  0.0 
FunctionalEnergyUnique                             True 
FunctionalEnergyAvgStdev     -731.17704664914  +/-  0.0 
VxcUnique                                          True 
VxcAvgStdev                  -954.51279880902  +/-  0.0 
TotalEnergyUnique                                  True 
TotalEnergyAvgStdev          -38089.887309643  +/-  0.0 
Name: 164, dtype: object
FittedDensityUnique                                 True 
FittedDensityAvgStdev         157.995763642262  +/-  0.0 
FunctionalEnergyUnique                              True 
FunctionalEnergyAvgStdev     -731.177046638713  +/-  0.0 
VxcUnique                                           True 
VxcAvgStdev                  -954.512798798765  +/-  0.0 
TotalEnergyUnique                                   True 
TotalEnergyAvgStdev           -38089.887309632  +/-  0.0 
Name: 165, dtype: object
FittedDensityUnique                                 True 
FittedDensityAvgStdev          157.99576364693  +/-  0.0 
FunctionalEnergyUnique                              True 
FunctionalEnergyAvgStdev      -731.17704664243  +/-  0.0 
VxcUnique                                           True 
VxcAvgStdev                   -954.51279880233  +/-  0.0 
TotalEnergyUnique                                   True 
TotalEnergyAvgStdev          -38089.8873096348  +/-  0.0 
Name: 166, dtype: object
FittedDensityUnique                                 True 
FittedDensityAvgStdev         157.995763656661  +/-  0.0 
FunctionalEnergyUnique                              True 
FunctionalEnergyAvgStdev     -731.177046655251  +/-  0.0 
VxcUnique                                           True 
VxcAvgStdev                  -954.512798814771  +/-  0.0 
TotalEnergyUnique                                   True 
TotalEnergyAvgStdev          -38089.8873096451  +/-  0.0 
Name: 167, dtype: object

Au2  Model:  1  dynamic 
FittedDensityUnique                                 True 
FittedDensityAvgStdev         157.995763652813  +/-  0.0 
FunctionalEnergyUnique                              True 
FunctionalEnergyAvgStdev     -731.177046652443  +/-  0.0 
VxcUnique                                           True 
VxcAvgStdev                  -954.512798812227  +/-  0.0 
TotalEnergyUnique                                   True 
TotalEnergyAvgStdev          -38089.8873096438  +/-  0.0 
Name: 128, dtype: object
FittedDensityUnique                                 True 
FittedDensityAvgStdev         157.995763645005  +/-  0.0 
FunctionalEnergyUnique                              True 
FunctionalEnergyAvgStdev     -731.177046644198  +/-  0.0 
VxcUnique                                           True 
VxcAvgStdev                  -954.512798804292  +/-  0.0 
TotalEnergyUnique                                   True 
TotalEnergyAvgStdev          -38089.8873096367  +/-  0.0 
Name: 129, dtype: object
FittedDensityUnique                                 True 
FittedDensityAvgStdev         157.995763648373  +/-  0.0 
FunctionalEnergyUnique                              True 
FunctionalEnergyAvgStdev      -731.17704664692  +/-  0.0 
VxcUnique                                           True 
VxcAvgStdev                  -954.512798806934  +/-  0.0 
TotalEnergyUnique                                   True 
TotalEnergyAvgStdev          -38089.8873096368  +/-  0.0 
Name: 130, dtype: object
FittedDensityUnique                                                    False 
FittedDensityAvgStdev        157.99576364790448  +/-  1.7296699749087809e-09 
FunctionalEnergyUnique                                                 False 
FunctionalEnergyAvgStdev       -731.1770466462731  +/-  2.41959054452592e-09 
VxcUnique                                                              False 
VxcAvgStdev                  -954.5127988062393  +/-  2.3380375085286473e-09 
TotalEnergyUnique                                                      False 
TotalEnergyAvgStdev          -38089.887309638696  +/-  2.587431705632089e-09 
Name: 131, dtype: object
FittedDensityUnique                                True 
FittedDensityAvgStdev        157.995763649286  +/-  0.0 
FunctionalEnergyUnique                             True 
FunctionalEnergyAvgStdev     -731.17704664914  +/-  0.0 
VxcUnique                                          True 
VxcAvgStdev                  -954.51279880902  +/-  0.0 
TotalEnergyUnique                                  True 
TotalEnergyAvgStdev          -38089.887309643  +/-  0.0 
Name: 132, dtype: object
FittedDensityUnique                                 True 
FittedDensityAvgStdev         157.995763642262  +/-  0.0 
FunctionalEnergyUnique                              True 
FunctionalEnergyAvgStdev     -731.177046638713  +/-  0.0 
VxcUnique                                           True 
VxcAvgStdev                  -954.512798798765  +/-  0.0 
TotalEnergyUnique                                   True 
TotalEnergyAvgStdev           -38089.887309632  +/-  0.0 
Name: 133, dtype: object
FittedDensityUnique                                 True 
FittedDensityAvgStdev          157.99576364693  +/-  0.0 
FunctionalEnergyUnique                              True 
FunctionalEnergyAvgStdev      -731.17704664243  +/-  0.0 
VxcUnique                                           True 
VxcAvgStdev                   -954.51279880233  +/-  0.0 
TotalEnergyUnique                                   True 
TotalEnergyAvgStdev          -38089.8873096348  +/-  0.0 
Name: 134, dtype: object
FittedDensityUnique                                 True 
FittedDensityAvgStdev         157.995763656661  +/-  0.0 
FunctionalEnergyUnique                              True 
FunctionalEnergyAvgStdev     -731.177046655251  +/-  0.0 
VxcUnique                                           True 
VxcAvgStdev                  -954.512798814771  +/-  0.0 
TotalEnergyUnique                                   True 
TotalEnergyAvgStdev          -38089.8873096451  +/-  0.0 
Name: 135, dtype: object

Au2  Model:  2  static 
FittedDensityUnique                                 True 
FittedDensityAvgStdev         157.995763652813  +/-  0.0 
FunctionalEnergyUnique                              True 
FunctionalEnergyAvgStdev     -731.177046652443  +/-  0.0 
VxcUnique                                           True 
VxcAvgStdev                  -954.512798812227  +/-  0.0 
TotalEnergyUnique                                   True 
TotalEnergyAvgStdev          -38089.8873096438  +/-  0.0 
Name: 168, dtype: object
FittedDensityUnique                                 True 
FittedDensityAvgStdev         157.995763645005  +/-  0.0 
FunctionalEnergyUnique                              True 
FunctionalEnergyAvgStdev     -731.177046644198  +/-  0.0 
VxcUnique                                           True 
VxcAvgStdev                  -954.512798804292  +/-  0.0 
TotalEnergyUnique                                   True 
TotalEnergyAvgStdev          -38089.8873096367  +/-  0.0 
Name: 169, dtype: object
FittedDensityUnique                                                   False 
FittedDensityAvgStdev        157.99576365107652  +/-  2.703487211912094e-09 
FunctionalEnergyUnique                                                False 
FunctionalEnergyAvgStdev     -731.1770466509155  +/-  3.995523911726195e-09 
VxcUnique                                                             False 
VxcAvgStdev                   -954.512798810848  +/-  3.914010449079797e-09 
TotalEnergyUnique                                                     False 
TotalEnergyAvgStdev           -38089.8873096421  +/-  5.300536370380937e-09 
Name: 170, dtype: object
FittedDensityUnique                                                   False 
FittedDensityAvgStdev          157.9957636487685  +/-  4.18251551613995e-09 
FunctionalEnergyUnique                                                False 
FunctionalEnergyAvgStdev     -731.1770466467644  +/-  4.358006547583226e-09 
VxcUnique                                                             False 
VxcAvgStdev                  -954.5127988067384  +/-  4.180866825054926e-09 
TotalEnergyUnique                                                     False 
TotalEnergyAvgStdev           -38089.8873096385  +/-  3.936350227490145e-09 
Name: 171, dtype: object
FittedDensityUnique                                True 
FittedDensityAvgStdev        157.995763649286  +/-  0.0 
FunctionalEnergyUnique                             True 
FunctionalEnergyAvgStdev     -731.17704664914  +/-  0.0 
VxcUnique                                          True 
VxcAvgStdev                  -954.51279880902  +/-  0.0 
TotalEnergyUnique                                  True 
TotalEnergyAvgStdev          -38089.887309643  +/-  0.0 
Name: 172, dtype: object
FittedDensityUnique                                 True 
FittedDensityAvgStdev         157.995763642262  +/-  0.0 
FunctionalEnergyUnique                              True 
FunctionalEnergyAvgStdev     -731.177046638713  +/-  0.0 
VxcUnique                                           True 
VxcAvgStdev                  -954.512798798765  +/-  0.0 
TotalEnergyUnique                                   True 
TotalEnergyAvgStdev           -38089.887309632  +/-  0.0 
Name: 173, dtype: object
FittedDensityUnique                                 True 
FittedDensityAvgStdev          157.99576364693  +/-  0.0 
FunctionalEnergyUnique                              True 
FunctionalEnergyAvgStdev      -731.17704664243  +/-  0.0 
VxcUnique                                           True 
VxcAvgStdev                   -954.51279880233  +/-  0.0 
TotalEnergyUnique                                   True 
TotalEnergyAvgStdev          -38089.8873096348  +/-  0.0 
Name: 174, dtype: object
FittedDensityUnique                                 True 
FittedDensityAvgStdev         157.995763656661  +/-  0.0 
FunctionalEnergyUnique                              True 
FunctionalEnergyAvgStdev     -731.177046655251  +/-  0.0 
VxcUnique                                           True 
VxcAvgStdev                  -954.512798814771  +/-  0.0 
TotalEnergyUnique                                   True 
TotalEnergyAvgStdev          -38089.8873096451  +/-  0.0 
Name: 175, dtype: object

Au2  Model:  2  dynamic 
FittedDensityUnique                                 True 
FittedDensityAvgStdev         157.995763652813  +/-  0.0 
FunctionalEnergyUnique                              True 
FunctionalEnergyAvgStdev     -731.177046652443  +/-  0.0 
VxcUnique                                           True 
VxcAvgStdev                  -954.512798812227  +/-  0.0 
TotalEnergyUnique                                   True 
TotalEnergyAvgStdev          -38089.8873096438  +/-  0.0 
Name: 136, dtype: object
FittedDensityUnique                                 True 
FittedDensityAvgStdev         157.995763645005  +/-  0.0 
FunctionalEnergyUnique                              True 
FunctionalEnergyAvgStdev     -731.177046644198  +/-  0.0 
VxcUnique                                           True 
VxcAvgStdev                  -954.512798804292  +/-  0.0 
TotalEnergyUnique                                   True 
TotalEnergyAvgStdev          -38089.8873096367  +/-  0.0 
Name: 137, dtype: object
FittedDensityUnique                                 True 
FittedDensityAvgStdev         157.995763648373  +/-  0.0 
FunctionalEnergyUnique                              True 
FunctionalEnergyAvgStdev      -731.17704664692  +/-  0.0 
VxcUnique                                           True 
VxcAvgStdev                  -954.512798806934  +/-  0.0 
TotalEnergyUnique                                   True 
TotalEnergyAvgStdev          -38089.8873096368  +/-  0.0 
Name: 138, dtype: object
FittedDensityUnique                                                   False 
FittedDensityAvgStdev         157.995763650152  +/-  2.9548224067777466e-09 
FunctionalEnergyUnique                                                False 
FunctionalEnergyAvgStdev     -731.1770466484157  +/-  3.555717285932026e-09 
VxcUnique                                                             False 
VxcAvgStdev                   -954.5127988082957  +/-  3.42934981384448e-09 
TotalEnergyUnique                                                     False 
TotalEnergyAvgStdev          -38089.88730964035  +/-  3.378759964175887e-09 
Name: 139, dtype: object
FittedDensityUnique                                True 
FittedDensityAvgStdev        157.995763649286  +/-  0.0 
FunctionalEnergyUnique                             True 
FunctionalEnergyAvgStdev     -731.17704664914  +/-  0.0 
VxcUnique                                          True 
VxcAvgStdev                  -954.51279880902  +/-  0.0 
TotalEnergyUnique                                  True 
TotalEnergyAvgStdev          -38089.887309643  +/-  0.0 
Name: 140, dtype: object
FittedDensityUnique                                 True 
FittedDensityAvgStdev         157.995763642262  +/-  0.0 
FunctionalEnergyUnique                              True 
FunctionalEnergyAvgStdev     -731.177046638713  +/-  0.0 
VxcUnique                                           True 
VxcAvgStdev                  -954.512798798765  +/-  0.0 
TotalEnergyUnique                                   True 
TotalEnergyAvgStdev           -38089.887309632  +/-  0.0 
Name: 141, dtype: object
FittedDensityUnique                                 True 
FittedDensityAvgStdev          157.99576364693  +/-  0.0 
FunctionalEnergyUnique                              True 
FunctionalEnergyAvgStdev      -731.17704664243  +/-  0.0 
VxcUnique                                           True 
VxcAvgStdev                   -954.51279880233  +/-  0.0 
TotalEnergyUnique                                   True 
TotalEnergyAvgStdev          -38089.8873096348  +/-  0.0 
Name: 142, dtype: object
FittedDensityUnique                                 True 
FittedDensityAvgStdev         157.995763656661  +/-  0.0 
FunctionalEnergyUnique                              True 
FunctionalEnergyAvgStdev     -731.177046655251  +/-  0.0 
VxcUnique                                           True 
VxcAvgStdev                  -954.512798814771  +/-  0.0 
TotalEnergyUnique                                   True 
TotalEnergyAvgStdev          -38089.8873096451  +/-  0.0 
Name: 143, dtype: object

Au2  Model:  3  static 
FittedDensityUnique                                 True 
FittedDensityAvgStdev         157.995763652813  +/-  0.0 
FunctionalEnergyUnique                              True 
FunctionalEnergyAvgStdev     -731.177046652443  +/-  0.0 
VxcUnique                                           True 
VxcAvgStdev                  -954.512798812227  +/-  0.0 
TotalEnergyUnique                                   True 
TotalEnergyAvgStdev          -38089.8873096438  +/-  0.0 
Name: 176, dtype: object
FittedDensityUnique                                 True 
FittedDensityAvgStdev         157.995763645005  +/-  0.0 
FunctionalEnergyUnique                              True 
FunctionalEnergyAvgStdev     -731.177046644198  +/-  0.0 
VxcUnique                                           True 
VxcAvgStdev                  -954.512798804292  +/-  0.0 
TotalEnergyUnique                                   True 
TotalEnergyAvgStdev          -38089.8873096367  +/-  0.0 
Name: 177, dtype: object
FittedDensityUnique                                 True 
FittedDensityAvgStdev         157.995763648373  +/-  0.0 
FunctionalEnergyUnique                              True 
FunctionalEnergyAvgStdev      -731.17704664692  +/-  0.0 
VxcUnique                                           True 
VxcAvgStdev                  -954.512798806934  +/-  0.0 
TotalEnergyUnique                                   True 
TotalEnergyAvgStdev          -38089.8873096368  +/-  0.0 
Name: 178, dtype: object
FittedDensityUnique                                                    False 
FittedDensityAvgStdev         157.99576364803326  +/-  8.575329112985255e-10 
FunctionalEnergyUnique                                                 False 
FunctionalEnergyAvgStdev     -731.1770466454523  +/-  1.4758589755396768e-09 
VxcUnique                                                              False 
VxcAvgStdev                  -954.5127988053528  +/-  1.5640741824236987e-09 
TotalEnergyUnique                                                      False 
TotalEnergyAvgStdev           -38089.88730963618  +/-  7.397720549365751e-10 
Name: 179, dtype: object
FittedDensityUnique                                True 
FittedDensityAvgStdev        157.995763649286  +/-  0.0 
FunctionalEnergyUnique                             True 
FunctionalEnergyAvgStdev     -731.17704664914  +/-  0.0 
VxcUnique                                          True 
VxcAvgStdev                  -954.51279880902  +/-  0.0 
TotalEnergyUnique                                  True 
TotalEnergyAvgStdev          -38089.887309643  +/-  0.0 
Name: 180, dtype: object
FittedDensityUnique                                 True 
FittedDensityAvgStdev         157.995763642262  +/-  0.0 
FunctionalEnergyUnique                              True 
FunctionalEnergyAvgStdev     -731.177046638713  +/-  0.0 
VxcUnique                                           True 
VxcAvgStdev                  -954.512798798765  +/-  0.0 
TotalEnergyUnique                                   True 
TotalEnergyAvgStdev           -38089.887309632  +/-  0.0 
Name: 181, dtype: object
FittedDensityUnique                                 True 
FittedDensityAvgStdev          157.99576364693  +/-  0.0 
FunctionalEnergyUnique                              True 
FunctionalEnergyAvgStdev      -731.17704664243  +/-  0.0 
VxcUnique                                           True 
VxcAvgStdev                   -954.51279880233  +/-  0.0 
TotalEnergyUnique                                   True 
TotalEnergyAvgStdev          -38089.8873096348  +/-  0.0 
Name: 182, dtype: object
FittedDensityUnique                                 True 
FittedDensityAvgStdev         157.995763656661  +/-  0.0 
FunctionalEnergyUnique                              True 
FunctionalEnergyAvgStdev     -731.177046655251  +/-  0.0 
VxcUnique                                           True 
VxcAvgStdev                  -954.512798814771  +/-  0.0 
TotalEnergyUnique                                   True 
TotalEnergyAvgStdev          -38089.8873096451  +/-  0.0 
Name: 183, dtype: object

Au2  Model:  3  dynamic 
FittedDensityUnique                                 True 
FittedDensityAvgStdev         157.995763652813  +/-  0.0 
FunctionalEnergyUnique                              True 
FunctionalEnergyAvgStdev     -731.177046652443  +/-  0.0 
VxcUnique                                           True 
VxcAvgStdev                  -954.512798812227  +/-  0.0 
TotalEnergyUnique                                   True 
TotalEnergyAvgStdev          -38089.8873096438  +/-  0.0 
Name: 144, dtype: object
FittedDensityUnique                                 True 
FittedDensityAvgStdev         157.995763645005  +/-  0.0 
FunctionalEnergyUnique                              True 
FunctionalEnergyAvgStdev     -731.177046644198  +/-  0.0 
VxcUnique                                           True 
VxcAvgStdev                  -954.512798804292  +/-  0.0 
TotalEnergyUnique                                   True 
TotalEnergyAvgStdev          -38089.8873096367  +/-  0.0 
Name: 145, dtype: object
FittedDensityUnique                                 True 
FittedDensityAvgStdev         157.995763648373  +/-  0.0 
FunctionalEnergyUnique                              True 
FunctionalEnergyAvgStdev      -731.17704664692  +/-  0.0 
VxcUnique                                           True 
VxcAvgStdev                  -954.512798806934  +/-  0.0 
TotalEnergyUnique                                   True 
TotalEnergyAvgStdev          -38089.8873096368  +/-  0.0 
Name: 146, dtype: object
FittedDensityUnique                                                    False 
FittedDensityAvgStdev          157.9957636499285  +/-  1.546253578721647e-09 
FunctionalEnergyUnique                                                 False 
FunctionalEnergyAvgStdev     -731.1770466489274  +/-  2.8503704718442875e-09 
VxcUnique                                                              False 
VxcAvgStdev                   -954.5127988088453  +/-  2.920975196023205e-09 
TotalEnergyUnique                                                      False 
TotalEnergyAvgStdev           -38089.88730964003  +/-  3.869350907191178e-09 
Name: 147, dtype: object
FittedDensityUnique                                True 
FittedDensityAvgStdev        157.995763649286  +/-  0.0 
FunctionalEnergyUnique                             True 
FunctionalEnergyAvgStdev     -731.17704664914  +/-  0.0 
VxcUnique                                          True 
VxcAvgStdev                  -954.51279880902  +/-  0.0 
TotalEnergyUnique                                  True 
TotalEnergyAvgStdev          -38089.887309643  +/-  0.0 
Name: 148, dtype: object
FittedDensityUnique                                 True 
FittedDensityAvgStdev         157.995763642262  +/-  0.0 
FunctionalEnergyUnique                              True 
FunctionalEnergyAvgStdev     -731.177046638713  +/-  0.0 
VxcUnique                                           True 
VxcAvgStdev                  -954.512798798765  +/-  0.0 
TotalEnergyUnique                                   True 
TotalEnergyAvgStdev           -38089.887309632  +/-  0.0 
Name: 149, dtype: object
FittedDensityUnique                                 True 
FittedDensityAvgStdev          157.99576364693  +/-  0.0 
FunctionalEnergyUnique                              True 
FunctionalEnergyAvgStdev      -731.17704664243  +/-  0.0 
VxcUnique                                           True 
VxcAvgStdev                   -954.51279880233  +/-  0.0 
TotalEnergyUnique                                   True 
TotalEnergyAvgStdev          -38089.8873096348  +/-  0.0 
Name: 150, dtype: object
FittedDensityUnique                                 True 
FittedDensityAvgStdev         157.995763656661  +/-  0.0 
FunctionalEnergyUnique                              True 
FunctionalEnergyAvgStdev     -731.177046655251  +/-  0.0 
VxcUnique                                           True 
VxcAvgStdev                  -954.512798814771  +/-  0.0 
TotalEnergyUnique                                   True 
TotalEnergyAvgStdev          -38089.8873096451  +/-  0.0 
Name: 151, dtype: object

Au2  Model:  4  static 
FittedDensityUnique                                 True 
FittedDensityAvgStdev         157.995763652813  +/-  0.0 
FunctionalEnergyUnique                              True 
FunctionalEnergyAvgStdev     -731.177046652443  +/-  0.0 
VxcUnique                                           True 
VxcAvgStdev                  -954.512798812227  +/-  0.0 
TotalEnergyUnique                                   True 
TotalEnergyAvgStdev          -38089.8873096438  +/-  0.0 
Name: 184, dtype: object
FittedDensityUnique                                 True 
FittedDensityAvgStdev         157.995763645005  +/-  0.0 
FunctionalEnergyUnique                              True 
FunctionalEnergyAvgStdev     -731.177046644198  +/-  0.0 
VxcUnique                                           True 
VxcAvgStdev                  -954.512798804292  +/-  0.0 
TotalEnergyUnique                                   True 
TotalEnergyAvgStdev          -38089.8873096367  +/-  0.0 
Name: 185, dtype: object
FittedDensityUnique                                 True 
FittedDensityAvgStdev         157.995763648373  +/-  0.0 
FunctionalEnergyUnique                              True 
FunctionalEnergyAvgStdev      -731.17704664692  +/-  0.0 
VxcUnique                                           True 
VxcAvgStdev                  -954.512798806934  +/-  0.0 
TotalEnergyUnique                                   True 
TotalEnergyAvgStdev          -38089.8873096368  +/-  0.0 
Name: 186, dtype: object
FittedDensityUnique                                                   False 
FittedDensityAvgStdev         157.995763651316  +/-  2.4428020134421384e-09 
FunctionalEnergyUnique                                                False 
FunctionalEnergyAvgStdev     -731.1770466512659  +/-  2.586609313977156e-09 
VxcUnique                                                             False 
VxcAvgStdev                  -954.5127988112273  +/-  2.546997962546464e-09 
TotalEnergyUnique                                                     False 
TotalEnergyAvgStdev          -38089.88730964118  +/-  3.949865020608673e-09 
Name: 187, dtype: object
FittedDensityUnique                                True 
FittedDensityAvgStdev        157.995763649286  +/-  0.0 
FunctionalEnergyUnique                             True 
FunctionalEnergyAvgStdev     -731.17704664914  +/-  0.0 
VxcUnique                                          True 
VxcAvgStdev                  -954.51279880902  +/-  0.0 
TotalEnergyUnique                                  True 
TotalEnergyAvgStdev          -38089.887309643  +/-  0.0 
Name: 188, dtype: object
FittedDensityUnique                                 True 
FittedDensityAvgStdev         157.995763642262  +/-  0.0 
FunctionalEnergyUnique                              True 
FunctionalEnergyAvgStdev     -731.177046638713  +/-  0.0 
VxcUnique                                           True 
VxcAvgStdev                  -954.512798798765  +/-  0.0 
TotalEnergyUnique                                   True 
TotalEnergyAvgStdev           -38089.887309632  +/-  0.0 
Name: 189, dtype: object
FittedDensityUnique                                 True 
FittedDensityAvgStdev          157.99576364693  +/-  0.0 
FunctionalEnergyUnique                              True 
FunctionalEnergyAvgStdev      -731.17704664243  +/-  0.0 
VxcUnique                                           True 
VxcAvgStdev                   -954.51279880233  +/-  0.0 
TotalEnergyUnique                                   True 
TotalEnergyAvgStdev          -38089.8873096348  +/-  0.0 
Name: 190, dtype: object
FittedDensityUnique                                 True 
FittedDensityAvgStdev         157.995763656661  +/-  0.0 
FunctionalEnergyUnique                              True 
FunctionalEnergyAvgStdev     -731.177046655251  +/-  0.0 
VxcUnique                                           True 
VxcAvgStdev                  -954.512798814771  +/-  0.0 
TotalEnergyUnique                                   True 
TotalEnergyAvgStdev          -38089.8873096451  +/-  0.0 
Name: 191, dtype: object

Au2  Model:  4  dynamic 
FittedDensityUnique                                 True 
FittedDensityAvgStdev         157.995763652813  +/-  0.0 
FunctionalEnergyUnique                              True 
FunctionalEnergyAvgStdev     -731.177046652443  +/-  0.0 
VxcUnique                                           True 
VxcAvgStdev                  -954.512798812227  +/-  0.0 
TotalEnergyUnique                                   True 
TotalEnergyAvgStdev          -38089.8873096438  +/-  0.0 
Name: 152, dtype: object
FittedDensityUnique                                 True 
FittedDensityAvgStdev         157.995763645005  +/-  0.0 
FunctionalEnergyUnique                              True 
FunctionalEnergyAvgStdev     -731.177046644198  +/-  0.0 
VxcUnique                                           True 
VxcAvgStdev                  -954.512798804292  +/-  0.0 
TotalEnergyUnique                                   True 
TotalEnergyAvgStdev          -38089.8873096367  +/-  0.0 
Name: 153, dtype: object
FittedDensityUnique                                 True 
FittedDensityAvgStdev         157.995763648373  +/-  0.0 
FunctionalEnergyUnique                              True 
FunctionalEnergyAvgStdev      -731.17704664692  +/-  0.0 
VxcUnique                                           True 
VxcAvgStdev                  -954.512798806934  +/-  0.0 
TotalEnergyUnique                                   True 
TotalEnergyAvgStdev          -38089.8873096368  +/-  0.0 
Name: 154, dtype: object
FittedDensityUnique                                                    False 
FittedDensityAvgStdev        157.99576364996602  +/-  2.8404137310994905e-09 
FunctionalEnergyUnique                                                 False 
FunctionalEnergyAvgStdev      -731.1770466483097  +/-  4.018419359003553e-09 
VxcUnique                                                              False 
VxcAvgStdev                   -954.5127988081986  +/-  4.016466952134495e-09 
TotalEnergyUnique                                                      False 
TotalEnergyAvgStdev             -38089.88730964085  +/-  4.0718491202958e-09 
Name: 155, dtype: object
FittedDensityUnique                                True 
FittedDensityAvgStdev        157.995763649286  +/-  0.0 
FunctionalEnergyUnique                             True 
FunctionalEnergyAvgStdev     -731.17704664914  +/-  0.0 
VxcUnique                                          True 
VxcAvgStdev                  -954.51279880902  +/-  0.0 
TotalEnergyUnique                                  True 
TotalEnergyAvgStdev          -38089.887309643  +/-  0.0 
Name: 156, dtype: object
FittedDensityUnique                                 True 
FittedDensityAvgStdev         157.995763642262  +/-  0.0 
FunctionalEnergyUnique                              True 
FunctionalEnergyAvgStdev     -731.177046638713  +/-  0.0 
VxcUnique                                           True 
VxcAvgStdev                  -954.512798798765  +/-  0.0 
TotalEnergyUnique                                   True 
TotalEnergyAvgStdev           -38089.887309632  +/-  0.0 
Name: 157, dtype: object
FittedDensityUnique                                 True 
FittedDensityAvgStdev          157.99576364693  +/-  0.0 
FunctionalEnergyUnique                              True 
FunctionalEnergyAvgStdev      -731.17704664243  +/-  0.0 
VxcUnique                                           True 
VxcAvgStdev                   -954.51279880233  +/-  0.0 
TotalEnergyUnique                                   True 
TotalEnergyAvgStdev          -38089.8873096348  +/-  0.0 
Name: 158, dtype: object
FittedDensityUnique                                 True 
FittedDensityAvgStdev         157.995763656661  +/-  0.0 
FunctionalEnergyUnique                              True 
FunctionalEnergyAvgStdev     -731.177046655251  +/-  0.0 
VxcUnique                                           True 
VxcAvgStdev                  -954.512798814771  +/-  0.0 
TotalEnergyUnique                                   True 
TotalEnergyAvgStdev          -38089.8873096451  +/-  0.0 
Name: 159, dtype: object

PbCl2  Model:  1  static 
FittedDensityUnique                                 True 
FittedDensityAvgStdev         115.998418063428  +/-  0.0 
FunctionalEnergyUnique                              True 
FunctionalEnergyAvgStdev     -447.300911212075  +/-  0.0 
VxcUnique                                           True 
VxcAvgStdev                  -583.122296491206  +/-  0.0 
TotalEnergyUnique                                   True 
TotalEnergyAvgStdev           -21847.203668326  +/-  0.0 
Name: 32, dtype: object
FittedDensityUnique                                 True 
FittedDensityAvgStdev         115.998418064251  +/-  0.0 
FunctionalEnergyUnique                              True 
FunctionalEnergyAvgStdev      -447.30091121034  +/-  0.0 
VxcUnique                                           True 
VxcAvgStdev                  -583.122296487826  +/-  0.0 
TotalEnergyUnique                                   True 
TotalEnergyAvgStdev          -21847.2036683234  +/-  0.0 
Name: 33, dtype: object
FittedDensityUnique                                 True 
FittedDensityAvgStdev          115.99841806107  +/-  0.0 
FunctionalEnergyUnique                              True 
FunctionalEnergyAvgStdev     -447.300911198307  +/-  0.0 
VxcUnique                                           True 
VxcAvgStdev                  -583.122296470409  +/-  0.0 
TotalEnergyUnique                                   True 
TotalEnergyAvgStdev          -21847.2036683104  +/-  0.0 
Name: 34, dtype: object
FittedDensityUnique                                                    False 
FittedDensityAvgStdev         115.99841806142575  +/-  7.547658865488402e-10 
FunctionalEnergyUnique                                                 False 
FunctionalEnergyAvgStdev      -447.3009112000302  +/-  9.748497930454685e-09 
VxcUnique                                                              False 
VxcAvgStdev                  -583.1222964739632  +/-  1.3499955354918158e-08 
TotalEnergyUnique                                                      False 
TotalEnergyAvgStdev           -21847.20366831325  +/-  8.820794464173599e-09 
Name: 35, dtype: object
FittedDensityUnique                                 True 
FittedDensityAvgStdev          115.99841806123  +/-  0.0 
FunctionalEnergyUnique                              True 
FunctionalEnergyAvgStdev     -447.300911192945  +/-  0.0 
VxcUnique                                           True 
VxcAvgStdev                  -583.122296465285  +/-  0.0 
TotalEnergyUnique                                   True 
TotalEnergyAvgStdev          -21847.2036683065  +/-  0.0 
Name: 36, dtype: object
FittedDensityUnique                                 True 
FittedDensityAvgStdev         115.998418063106  +/-  0.0 
FunctionalEnergyUnique                              True 
FunctionalEnergyAvgStdev     -447.300911213982  +/-  0.0 
VxcUnique                                           True 
VxcAvgStdev                  -583.122296494744  +/-  0.0 
TotalEnergyUnique                                   True 
TotalEnergyAvgStdev          -21847.2036683273  +/-  0.0 
Name: 37, dtype: object
FittedDensityUnique                                 True 
FittedDensityAvgStdev         115.998418061324  +/-  0.0 
FunctionalEnergyUnique                              True 
FunctionalEnergyAvgStdev     -447.300911213601  +/-  0.0 
VxcUnique                                           True 
VxcAvgStdev                  -583.122296494408  +/-  0.0 
TotalEnergyUnique                                   True 
TotalEnergyAvgStdev          -21847.2036683277  +/-  0.0 
Name: 38, dtype: object
FittedDensityUnique                                 True 
FittedDensityAvgStdev         115.998418063435  +/-  0.0 
FunctionalEnergyUnique                              True 
FunctionalEnergyAvgStdev     -447.300911215009  +/-  0.0 
VxcUnique                                           True 
VxcAvgStdev                  -583.122296496204  +/-  0.0 
TotalEnergyUnique                                   True 
TotalEnergyAvgStdev          -21847.2036683261  +/-  0.0 
Name: 39, dtype: object

PbCl2  Model:  1  dynamic 
FittedDensityUnique                                 True 
FittedDensityAvgStdev         115.998418063428  +/-  0.0 
FunctionalEnergyUnique                              True 
FunctionalEnergyAvgStdev     -447.300911212075  +/-  0.0 
VxcUnique                                           True 
VxcAvgStdev                  -583.122296491206  +/-  0.0 
TotalEnergyUnique                                   True 
TotalEnergyAvgStdev           -21847.203668326  +/-  0.0 
Name: 0, dtype: object
FittedDensityUnique                                 True 
FittedDensityAvgStdev         115.998418064251  +/-  0.0 
FunctionalEnergyUnique                              True 
FunctionalEnergyAvgStdev      -447.30091121034  +/-  0.0 
VxcUnique                                           True 
VxcAvgStdev                  -583.122296487826  +/-  0.0 
TotalEnergyUnique                                   True 
TotalEnergyAvgStdev          -21847.2036683234  +/-  0.0 
Name: 1, dtype: object
FittedDensityUnique                                 True 
FittedDensityAvgStdev          115.99841806107  +/-  0.0 
FunctionalEnergyUnique                              True 
FunctionalEnergyAvgStdev     -447.300911198307  +/-  0.0 
VxcUnique                                           True 
VxcAvgStdev                  -583.122296470409  +/-  0.0 
TotalEnergyUnique                                   True 
TotalEnergyAvgStdev          -21847.2036683104  +/-  0.0 
Name: 2, dtype: object
FittedDensityUnique                                                    False 
FittedDensityAvgStdev        115.99841806289476  +/-  1.1279150047641308e-09 
FunctionalEnergyUnique                                                 False 
FunctionalEnergyAvgStdev     -447.30091120737904  +/-  9.311299976454363e-09 
VxcUnique                                                              False 
VxcAvgStdev                  -583.1222964845269  +/-  1.2833488046764032e-08 
TotalEnergyUnique                                                      False 
TotalEnergyAvgStdev          -21847.203668320824  +/-  8.782939619031633e-09 
Name: 3, dtype: object
FittedDensityUnique                                 True 
FittedDensityAvgStdev          115.99841806123  +/-  0.0 
FunctionalEnergyUnique                              True 
FunctionalEnergyAvgStdev     -447.300911192945  +/-  0.0 
VxcUnique                                           True 
VxcAvgStdev                  -583.122296465285  +/-  0.0 
TotalEnergyUnique                                   True 
TotalEnergyAvgStdev          -21847.2036683065  +/-  0.0 
Name: 4, dtype: object
FittedDensityUnique                                 True 
FittedDensityAvgStdev         115.998418063106  +/-  0.0 
FunctionalEnergyUnique                              True 
FunctionalEnergyAvgStdev     -447.300911213982  +/-  0.0 
VxcUnique                                           True 
VxcAvgStdev                  -583.122296494744  +/-  0.0 
TotalEnergyUnique                                   True 
TotalEnergyAvgStdev          -21847.2036683273  +/-  0.0 
Name: 5, dtype: object
FittedDensityUnique                                 True 
FittedDensityAvgStdev         115.998418061324  +/-  0.0 
FunctionalEnergyUnique                              True 
FunctionalEnergyAvgStdev     -447.300911213601  +/-  0.0 
VxcUnique                                           True 
VxcAvgStdev                  -583.122296494408  +/-  0.0 
TotalEnergyUnique                                   True 
TotalEnergyAvgStdev          -21847.2036683277  +/-  0.0 
Name: 6, dtype: object
FittedDensityUnique                                 True 
FittedDensityAvgStdev         115.998418063435  +/-  0.0 
FunctionalEnergyUnique                              True 
FunctionalEnergyAvgStdev     -447.300911215009  +/-  0.0 
VxcUnique                                           True 
VxcAvgStdev                  -583.122296496204  +/-  0.0 
TotalEnergyUnique                                   True 
TotalEnergyAvgStdev          -21847.2036683261  +/-  0.0 
Name: 7, dtype: object

PbCl2  Model:  2  static 
FittedDensityUnique                                 True 
FittedDensityAvgStdev         115.998418063428  +/-  0.0 
FunctionalEnergyUnique                              True 
FunctionalEnergyAvgStdev     -447.300911212075  +/-  0.0 
VxcUnique                                           True 
VxcAvgStdev                  -583.122296491206  +/-  0.0 
TotalEnergyUnique                                   True 
TotalEnergyAvgStdev           -21847.203668326  +/-  0.0 
Name: 40, dtype: object
FittedDensityUnique                                 True 
FittedDensityAvgStdev         115.998418064251  +/-  0.0 
FunctionalEnergyUnique                              True 
FunctionalEnergyAvgStdev      -447.30091121034  +/-  0.0 
VxcUnique                                           True 
VxcAvgStdev                  -583.122296487826  +/-  0.0 
TotalEnergyUnique                                   True 
TotalEnergyAvgStdev          -21847.2036683234  +/-  0.0 
Name: 41, dtype: object
FittedDensityUnique                                 True 
FittedDensityAvgStdev          115.99841806107  +/-  0.0 
FunctionalEnergyUnique                              True 
FunctionalEnergyAvgStdev     -447.300911198307  +/-  0.0 
VxcUnique                                           True 
VxcAvgStdev                  -583.122296470409  +/-  0.0 
TotalEnergyUnique                                   True 
TotalEnergyAvgStdev          -21847.2036683104  +/-  0.0 
Name: 42, dtype: object
FittedDensityUnique                                                    False 
FittedDensityAvgStdev        115.99841806283476  +/-  1.1304350896081308e-09 
FunctionalEnergyUnique                                                 False 
FunctionalEnergyAvgStdev     -447.3009112110808  +/-  5.3328281954627004e-09 
VxcUnique                                                              False 
VxcAvgStdev                   -583.1222964892937  +/-  7.329980848503123e-09 
TotalEnergyUnique                                                      False 
TotalEnergyAvgStdev          -21847.203668324073  +/-  5.996071708129024e-09 
Name: 43, dtype: object
FittedDensityUnique                                 True 
FittedDensityAvgStdev          115.99841806123  +/-  0.0 
FunctionalEnergyUnique                              True 
FunctionalEnergyAvgStdev     -447.300911192945  +/-  0.0 
VxcUnique                                           True 
VxcAvgStdev                  -583.122296465285  +/-  0.0 
TotalEnergyUnique                                   True 
TotalEnergyAvgStdev          -21847.2036683065  +/-  0.0 
Name: 44, dtype: object
FittedDensityUnique                                 True 
FittedDensityAvgStdev         115.998418063106  +/-  0.0 
FunctionalEnergyUnique                              True 
FunctionalEnergyAvgStdev     -447.300911213982  +/-  0.0 
VxcUnique                                           True 
VxcAvgStdev                  -583.122296494744  +/-  0.0 
TotalEnergyUnique                                   True 
TotalEnergyAvgStdev          -21847.2036683273  +/-  0.0 
Name: 45, dtype: object
FittedDensityUnique                                 True 
FittedDensityAvgStdev         115.998418061324  +/-  0.0 
FunctionalEnergyUnique                              True 
FunctionalEnergyAvgStdev     -447.300911213601  +/-  0.0 
VxcUnique                                           True 
VxcAvgStdev                  -583.122296494408  +/-  0.0 
TotalEnergyUnique                                   True 
TotalEnergyAvgStdev          -21847.2036683277  +/-  0.0 
Name: 46, dtype: object
FittedDensityUnique                                 True 
FittedDensityAvgStdev         115.998418063435  +/-  0.0 
FunctionalEnergyUnique                              True 
FunctionalEnergyAvgStdev     -447.300911215009  +/-  0.0 
VxcUnique                                           True 
VxcAvgStdev                  -583.122296496204  +/-  0.0 
TotalEnergyUnique                                   True 
TotalEnergyAvgStdev          -21847.2036683261  +/-  0.0 
Name: 47, dtype: object

PbCl2  Model:  2  dynamic 
FittedDensityUnique                                 True 
FittedDensityAvgStdev         115.998418063428  +/-  0.0 
FunctionalEnergyUnique                              True 
FunctionalEnergyAvgStdev     -447.300911212075  +/-  0.0 
VxcUnique                                           True 
VxcAvgStdev                  -583.122296491206  +/-  0.0 
TotalEnergyUnique                                   True 
TotalEnergyAvgStdev           -21847.203668326  +/-  0.0 
Name: 8, dtype: object
FittedDensityUnique                                 True 
FittedDensityAvgStdev         115.998418064251  +/-  0.0 
FunctionalEnergyUnique                              True 
FunctionalEnergyAvgStdev      -447.30091121034  +/-  0.0 
VxcUnique                                           True 
VxcAvgStdev                  -583.122296487826  +/-  0.0 
TotalEnergyUnique                                   True 
TotalEnergyAvgStdev          -21847.2036683234  +/-  0.0 
Name: 9, dtype: object
FittedDensityUnique                                 True 
FittedDensityAvgStdev          115.99841806107  +/-  0.0 
FunctionalEnergyUnique                              True 
FunctionalEnergyAvgStdev     -447.300911198307  +/-  0.0 
VxcUnique                                           True 
VxcAvgStdev                  -583.122296470409  +/-  0.0 
TotalEnergyUnique                                   True 
TotalEnergyAvgStdev          -21847.2036683104  +/-  0.0 
Name: 10, dtype: object
FittedDensityUnique                                                    False 
FittedDensityAvgStdev        115.99841806145326  +/-  1.3866646231842704e-09 
FunctionalEnergyUnique                                                 False 
FunctionalEnergyAvgStdev     -447.30091120144425  +/-  8.337419547150897e-09 
VxcUnique                                                              False 
VxcAvgStdev                  -583.1222964763808  +/-  1.1379278533869506e-08 
TotalEnergyUnique                                                      False 
TotalEnergyAvgStdev           -21847.20366831515  +/-  9.108077736623883e-09 
Name: 11, dtype: object
FittedDensityUnique                                 True 
FittedDensityAvgStdev          115.99841806123  +/-  0.0 
FunctionalEnergyUnique                              True 
FunctionalEnergyAvgStdev     -447.300911192945  +/-  0.0 
VxcUnique                                           True 
VxcAvgStdev                  -583.122296465285  +/-  0.0 
TotalEnergyUnique                                   True 
TotalEnergyAvgStdev          -21847.2036683065  +/-  0.0 
Name: 12, dtype: object
FittedDensityUnique                                 True 
FittedDensityAvgStdev         115.998418063106  +/-  0.0 
FunctionalEnergyUnique                              True 
FunctionalEnergyAvgStdev     -447.300911213982  +/-  0.0 
VxcUnique                                           True 
VxcAvgStdev                  -583.122296494744  +/-  0.0 
TotalEnergyUnique                                   True 
TotalEnergyAvgStdev          -21847.2036683273  +/-  0.0 
Name: 13, dtype: object
FittedDensityUnique                                 True 
FittedDensityAvgStdev         115.998418061324  +/-  0.0 
FunctionalEnergyUnique                              True 
FunctionalEnergyAvgStdev     -447.300911213601  +/-  0.0 
VxcUnique                                           True 
VxcAvgStdev                  -583.122296494408  +/-  0.0 
TotalEnergyUnique                                   True 
TotalEnergyAvgStdev          -21847.2036683277  +/-  0.0 
Name: 14, dtype: object
FittedDensityUnique                                 True 
FittedDensityAvgStdev         115.998418063435  +/-  0.0 
FunctionalEnergyUnique                              True 
FunctionalEnergyAvgStdev     -447.300911215009  +/-  0.0 
VxcUnique                                           True 
VxcAvgStdev                  -583.122296496204  +/-  0.0 
TotalEnergyUnique                                   True 
TotalEnergyAvgStdev          -21847.2036683261  +/-  0.0 
Name: 15, dtype: object

PbCl2  Model:  3  static 
FittedDensityUnique                                 True 
FittedDensityAvgStdev         115.998418063428  +/-  0.0 
FunctionalEnergyUnique                              True 
FunctionalEnergyAvgStdev     -447.300911212075  +/-  0.0 
VxcUnique                                           True 
VxcAvgStdev                  -583.122296491206  +/-  0.0 
TotalEnergyUnique                                   True 
TotalEnergyAvgStdev           -21847.203668326  +/-  0.0 
Name: 48, dtype: object
FittedDensityUnique                                 True 
FittedDensityAvgStdev         115.998418064251  +/-  0.0 
FunctionalEnergyUnique                              True 
FunctionalEnergyAvgStdev      -447.30091121034  +/-  0.0 
VxcUnique                                           True 
VxcAvgStdev                  -583.122296487826  +/-  0.0 
TotalEnergyUnique                                   True 
TotalEnergyAvgStdev          -21847.2036683234  +/-  0.0 
Name: 49, dtype: object
FittedDensityUnique                                 True 
FittedDensityAvgStdev          115.99841806107  +/-  0.0 
FunctionalEnergyUnique                              True 
FunctionalEnergyAvgStdev     -447.300911198307  +/-  0.0 
VxcUnique                                           True 
VxcAvgStdev                  -583.122296470409  +/-  0.0 
TotalEnergyUnique                                   True 
TotalEnergyAvgStdev          -21847.2036683104  +/-  0.0 
Name: 50, dtype: object
FittedDensityUnique                                                    False 
FittedDensityAvgStdev          115.9984180620845  +/-  8.342314820490954e-10 
FunctionalEnergyUnique                                                 False 
FunctionalEnergyAvgStdev       -447.300911204489  +/-  4.868326712451538e-09 
VxcUnique                                                              False 
VxcAvgStdev                   -583.1222964808873  +/-  6.726570022009858e-09 
TotalEnergyUnique                                                      False 
TotalEnergyAvgStdev          -21847.203668317175  +/-  7.484705974770556e-09 
Name: 51, dtype: object
FittedDensityUnique                                 True 
FittedDensityAvgStdev          115.99841806123  +/-  0.0 
FunctionalEnergyUnique                              True 
FunctionalEnergyAvgStdev     -447.300911192945  +/-  0.0 
VxcUnique                                           True 
VxcAvgStdev                  -583.122296465285  +/-  0.0 
TotalEnergyUnique                                   True 
TotalEnergyAvgStdev          -21847.2036683065  +/-  0.0 
Name: 52, dtype: object
FittedDensityUnique                                 True 
FittedDensityAvgStdev         115.998418063106  +/-  0.0 
FunctionalEnergyUnique                              True 
FunctionalEnergyAvgStdev     -447.300911213982  +/-  0.0 
VxcUnique                                           True 
VxcAvgStdev                  -583.122296494744  +/-  0.0 
TotalEnergyUnique                                   True 
TotalEnergyAvgStdev          -21847.2036683273  +/-  0.0 
Name: 53, dtype: object
FittedDensityUnique                                 True 
FittedDensityAvgStdev         115.998418061324  +/-  0.0 
FunctionalEnergyUnique                              True 
FunctionalEnergyAvgStdev     -447.300911213601  +/-  0.0 
VxcUnique                                           True 
VxcAvgStdev                  -583.122296494408  +/-  0.0 
TotalEnergyUnique                                   True 
TotalEnergyAvgStdev          -21847.2036683277  +/-  0.0 
Name: 54, dtype: object
FittedDensityUnique                                 True 
FittedDensityAvgStdev         115.998418063435  +/-  0.0 
FunctionalEnergyUnique                              True 
FunctionalEnergyAvgStdev     -447.300911215009  +/-  0.0 
VxcUnique                                           True 
VxcAvgStdev                  -583.122296496204  +/-  0.0 
TotalEnergyUnique                                   True 
TotalEnergyAvgStdev          -21847.2036683261  +/-  0.0 
Name: 55, dtype: object

PbCl2  Model:  3  dynamic 
FittedDensityUnique                                 True 
FittedDensityAvgStdev         115.998418063428  +/-  0.0 
FunctionalEnergyUnique                              True 
FunctionalEnergyAvgStdev     -447.300911212075  +/-  0.0 
VxcUnique                                           True 
VxcAvgStdev                  -583.122296491206  +/-  0.0 
TotalEnergyUnique                                   True 
TotalEnergyAvgStdev           -21847.203668326  +/-  0.0 
Name: 16, dtype: object
FittedDensityUnique                                 True 
FittedDensityAvgStdev         115.998418064251  +/-  0.0 
FunctionalEnergyUnique                              True 
FunctionalEnergyAvgStdev      -447.30091121034  +/-  0.0 
VxcUnique                                           True 
VxcAvgStdev                  -583.122296487826  +/-  0.0 
TotalEnergyUnique                                   True 
TotalEnergyAvgStdev          -21847.2036683234  +/-  0.0 
Name: 17, dtype: object
FittedDensityUnique                                 True 
FittedDensityAvgStdev          115.99841806107  +/-  0.0 
FunctionalEnergyUnique                              True 
FunctionalEnergyAvgStdev     -447.300911198307  +/-  0.0 
VxcUnique                                           True 
VxcAvgStdev                  -583.122296470409  +/-  0.0 
TotalEnergyUnique                                   True 
TotalEnergyAvgStdev          -21847.2036683104  +/-  0.0 
Name: 18, dtype: object
FittedDensityUnique                                                   False 
FittedDensityAvgStdev        115.99841806272674  +/-  9.154296653741123e-10 
FunctionalEnergyUnique                                                False 
FunctionalEnergyAvgStdev      -447.300911211628  +/-  5.146017958983383e-09 
VxcUnique                                                             False 
VxcAvgStdev                  -583.1222964903885  +/-  6.916213978606786e-09 
TotalEnergyUnique                                                     False 
TotalEnergyAvgStdev           -21847.2036683247  +/-  5.080919644607998e-09 
Name: 19, dtype: object
FittedDensityUnique                                 True 
FittedDensityAvgStdev          115.99841806123  +/-  0.0 
FunctionalEnergyUnique                              True 
FunctionalEnergyAvgStdev     -447.300911192945  +/-  0.0 
VxcUnique                                           True 
VxcAvgStdev                  -583.122296465285  +/-  0.0 
TotalEnergyUnique                                   True 
TotalEnergyAvgStdev          -21847.2036683065  +/-  0.0 
Name: 20, dtype: object
FittedDensityUnique                                 True 
FittedDensityAvgStdev         115.998418063106  +/-  0.0 
FunctionalEnergyUnique                              True 
FunctionalEnergyAvgStdev     -447.300911213982  +/-  0.0 
VxcUnique                                           True 
VxcAvgStdev                  -583.122296494744  +/-  0.0 
TotalEnergyUnique                                   True 
TotalEnergyAvgStdev          -21847.2036683273  +/-  0.0 
Name: 21, dtype: object
FittedDensityUnique                                 True 
FittedDensityAvgStdev         115.998418061324  +/-  0.0 
FunctionalEnergyUnique                              True 
FunctionalEnergyAvgStdev     -447.300911213601  +/-  0.0 
VxcUnique                                           True 
VxcAvgStdev                  -583.122296494408  +/-  0.0 
TotalEnergyUnique                                   True 
TotalEnergyAvgStdev          -21847.2036683277  +/-  0.0 
Name: 22, dtype: object
FittedDensityUnique                                 True 
FittedDensityAvgStdev         115.998418063435  +/-  0.0 
FunctionalEnergyUnique                              True 
FunctionalEnergyAvgStdev     -447.300911215009  +/-  0.0 
VxcUnique                                           True 
VxcAvgStdev                  -583.122296496204  +/-  0.0 
TotalEnergyUnique                                   True 
TotalEnergyAvgStdev          -21847.2036683261  +/-  0.0 
Name: 23, dtype: object

PbCl2  Model:  4  static 
FittedDensityUnique                                 True 
FittedDensityAvgStdev         115.998418063428  +/-  0.0 
FunctionalEnergyUnique                              True 
FunctionalEnergyAvgStdev     -447.300911212075  +/-  0.0 
VxcUnique                                           True 
VxcAvgStdev                  -583.122296491206  +/-  0.0 
TotalEnergyUnique                                   True 
TotalEnergyAvgStdev           -21847.203668326  +/-  0.0 
Name: 56, dtype: object
FittedDensityUnique                                 True 
FittedDensityAvgStdev         115.998418064251  +/-  0.0 
FunctionalEnergyUnique                              True 
FunctionalEnergyAvgStdev      -447.30091121034  +/-  0.0 
VxcUnique                                           True 
VxcAvgStdev                  -583.122296487826  +/-  0.0 
TotalEnergyUnique                                   True 
TotalEnergyAvgStdev          -21847.2036683234  +/-  0.0 
Name: 57, dtype: object
FittedDensityUnique                                 True 
FittedDensityAvgStdev          115.99841806107  +/-  0.0 
FunctionalEnergyUnique                              True 
FunctionalEnergyAvgStdev     -447.300911198307  +/-  0.0 
VxcUnique                                           True 
VxcAvgStdev                  -583.122296470409  +/-  0.0 
TotalEnergyUnique                                   True 
TotalEnergyAvgStdev          -21847.2036683104  +/-  0.0 
Name: 58, dtype: object
FittedDensityUnique                                                   False 
FittedDensityAvgStdev          115.998418062437  +/-  9.862516523178495e-10 
FunctionalEnergyUnique                                                False 
FunctionalEnergyAvgStdev     -447.3009111986295  +/-  4.021725994353126e-09 
VxcUnique                                                             False 
VxcAvgStdev                  -583.1222964722901  +/-  5.380143536313647e-09 
TotalEnergyUnique                                                     False 
TotalEnergyAvgStdev          -21847.20366831227  +/-  4.606499714111864e-09 
Name: 59, dtype: object
FittedDensityUnique                                 True 
FittedDensityAvgStdev          115.99841806123  +/-  0.0 
FunctionalEnergyUnique                              True 
FunctionalEnergyAvgStdev     -447.300911192945  +/-  0.0 
VxcUnique                                           True 
VxcAvgStdev                  -583.122296465285  +/-  0.0 
TotalEnergyUnique                                   True 
TotalEnergyAvgStdev          -21847.2036683065  +/-  0.0 
Name: 60, dtype: object
FittedDensityUnique                                 True 
FittedDensityAvgStdev         115.998418063106  +/-  0.0 
FunctionalEnergyUnique                              True 
FunctionalEnergyAvgStdev     -447.300911213982  +/-  0.0 
VxcUnique                                           True 
VxcAvgStdev                  -583.122296494744  +/-  0.0 
TotalEnergyUnique                                   True 
TotalEnergyAvgStdev          -21847.2036683273  +/-  0.0 
Name: 61, dtype: object
FittedDensityUnique                                 True 
FittedDensityAvgStdev         115.998418061324  +/-  0.0 
FunctionalEnergyUnique                              True 
FunctionalEnergyAvgStdev     -447.300911213601  +/-  0.0 
VxcUnique                                           True 
VxcAvgStdev                  -583.122296494408  +/-  0.0 
TotalEnergyUnique                                   True 
TotalEnergyAvgStdev          -21847.2036683277  +/-  0.0 
Name: 62, dtype: object
FittedDensityUnique                                 True 
FittedDensityAvgStdev         115.998418063435  +/-  0.0 
FunctionalEnergyUnique                              True 
FunctionalEnergyAvgStdev     -447.300911215009  +/-  0.0 
VxcUnique                                           True 
VxcAvgStdev                  -583.122296496204  +/-  0.0 
TotalEnergyUnique                                   True 
TotalEnergyAvgStdev          -21847.2036683261  +/-  0.0 
Name: 63, dtype: object

PbCl2  Model:  4  dynamic 
FittedDensityUnique                                 True 
FittedDensityAvgStdev         115.998418063428  +/-  0.0 
FunctionalEnergyUnique                              True 
FunctionalEnergyAvgStdev     -447.300911212075  +/-  0.0 
VxcUnique                                           True 
VxcAvgStdev                  -583.122296491206  +/-  0.0 
TotalEnergyUnique                                   True 
TotalEnergyAvgStdev           -21847.203668326  +/-  0.0 
Name: 24, dtype: object
FittedDensityUnique                                 True 
FittedDensityAvgStdev         115.998418064251  +/-  0.0 
FunctionalEnergyUnique                              True 
FunctionalEnergyAvgStdev      -447.30091121034  +/-  0.0 
VxcUnique                                           True 
VxcAvgStdev                  -583.122296487826  +/-  0.0 
TotalEnergyUnique                                   True 
TotalEnergyAvgStdev          -21847.2036683234  +/-  0.0 
Name: 25, dtype: object
FittedDensityUnique                                 True 
FittedDensityAvgStdev          115.99841806107  +/-  0.0 
FunctionalEnergyUnique                              True 
FunctionalEnergyAvgStdev     -447.300911198307  +/-  0.0 
VxcUnique                                           True 
VxcAvgStdev                  -583.122296470409  +/-  0.0 
TotalEnergyUnique                                   True 
TotalEnergyAvgStdev          -21847.2036683104  +/-  0.0 
Name: 26, dtype: object
FittedDensityUnique                                                   False 
FittedDensityAvgStdev         115.99841806209176  +/-  5.18269936585132e-10 
FunctionalEnergyUnique                                                False 
FunctionalEnergyAvgStdev     -447.3009112037297  +/-  6.437848245152441e-09 
VxcUnique                                                             False 
VxcAvgStdev                  -583.1222964787747  +/-  8.238269367027595e-09 
TotalEnergyUnique                                                     False 
TotalEnergyAvgStdev          -21847.2036683167  +/-  6.1175047566159004e-09 
Name: 27, dtype: object
FittedDensityUnique                                 True 
FittedDensityAvgStdev          115.99841806123  +/-  0.0 
FunctionalEnergyUnique                              True 
FunctionalEnergyAvgStdev     -447.300911192945  +/-  0.0 
VxcUnique                                           True 
VxcAvgStdev                  -583.122296465285  +/-  0.0 
TotalEnergyUnique                                   True 
TotalEnergyAvgStdev          -21847.2036683065  +/-  0.0 
Name: 28, dtype: object
FittedDensityUnique                                 True 
FittedDensityAvgStdev         115.998418063106  +/-  0.0 
FunctionalEnergyUnique                              True 
FunctionalEnergyAvgStdev     -447.300911213982  +/-  0.0 
VxcUnique                                           True 
VxcAvgStdev                  -583.122296494744  +/-  0.0 
TotalEnergyUnique                                   True 
TotalEnergyAvgStdev          -21847.2036683273  +/-  0.0 
Name: 29, dtype: object
FittedDensityUnique                                 True 
FittedDensityAvgStdev         115.998418061324  +/-  0.0 
FunctionalEnergyUnique                              True 
FunctionalEnergyAvgStdev     -447.300911213601  +/-  0.0 
VxcUnique                                           True 
VxcAvgStdev                  -583.122296494408  +/-  0.0 
TotalEnergyUnique                                   True 
TotalEnergyAvgStdev          -21847.2036683277  +/-  0.0 
Name: 30, dtype: object
FittedDensityUnique                                 True 
FittedDensityAvgStdev         115.998418063435  +/-  0.0 
FunctionalEnergyUnique                              True 
FunctionalEnergyAvgStdev     -447.300911215009  +/-  0.0 
VxcUnique                                           True 
VxcAvgStdev                  -583.122296496204  +/-  0.0 
TotalEnergyUnique                                   True 
TotalEnergyAvgStdev          -21847.2036683261  +/-  0.0 
Name: 31, dtype: object

H2O  Model:  1  static 
FittedDensityUnique                                 True 
FittedDensityAvgStdev         9.99943851759435  +/-  0.0 
FunctionalEnergyUnique                              True 
FunctionalEnergyAvgStdev     -9.31989362531192  +/-  0.0 
VxcUnique                                           True 
VxcAvgStdev                  -11.9438454242418  +/-  0.0 
TotalEnergyUnique                                   True 
TotalEnergyAvgStdev          -76.4689952588453  +/-  0.0 
Name: 96, dtype: object
FittedDensityUnique                                 True 
FittedDensityAvgStdev         9.99943851759429  +/-  0.0 
FunctionalEnergyUnique                              True 
FunctionalEnergyAvgStdev     -9.31989362531647  +/-  0.0 
VxcUnique                                           True 
VxcAvgStdev                  -11.9438454242476  +/-  0.0 
TotalEnergyUnique                                   True 
TotalEnergyAvgStdev          -76.4689952589256  +/-  0.0 
Name: 97, dtype: object
FittedDensityUnique                                                    False 
FittedDensityAvgStdev         9.999438517594355  +/-  1.0480505352461478e-13 
FunctionalEnergyUnique                                                 False 
FunctionalEnergyAvgStdev     -9.319893625318185  +/-  1.5152323840084136e-12 
VxcUnique                                                              False 
VxcAvgStdev                    -11.9438454242499  +/-  2.000177801164682e-12 
TotalEnergyUnique                                                      False 
TotalEnergyAvgStdev           -76.4689952588111  +/-  1.0680167884845976e-10 
Name: 98, dtype: object
FittedDensityUnique                                                    False 
FittedDensityAvgStdev         9.999438517594506  +/-  1.7497340292635183e-13 
FunctionalEnergyUnique                                                 False 
FunctionalEnergyAvgStdev      -9.31989362531558  +/-  1.1599610161283636e-12 
VxcUnique                                                              False 
VxcAvgStdev                    -11.9438454242465  +/-  1.500133613803749e-12 
TotalEnergyUnique                                                      False 
TotalEnergyAvgStdev          -76.46899525881724  +/-  1.0452086058199849e-11 
Name: 99, dtype: object
FittedDensityUnique                                 True 
FittedDensityAvgStdev         9.99943851759437  +/-  0.0 
FunctionalEnergyUnique                              True 
FunctionalEnergyAvgStdev      -9.3198936253217  +/-  0.0 
VxcUnique                                           True 
VxcAvgStdev                  -11.9438454242545  +/-  0.0 
TotalEnergyUnique                                   True 
TotalEnergyAvgStdev          -76.4689952587082  +/-  0.0 
Name: 100, dtype: object
FittedDensityUnique                                 True 
FittedDensityAvgStdev         9.99943851759437  +/-  0.0 
FunctionalEnergyUnique                              True 
FunctionalEnergyAvgStdev     -9.31989362531703  +/-  0.0 
VxcUnique                                           True 
VxcAvgStdev                  -11.9438454242484  +/-  0.0 
TotalEnergyUnique                                   True 
TotalEnergyAvgStdev          -76.4689952585196  +/-  0.0 
Name: 101, dtype: object
FittedDensityUnique                                 True 
FittedDensityAvgStdev         9.99943851759397  +/-  0.0 
FunctionalEnergyUnique                              True 
FunctionalEnergyAvgStdev     -9.31989362531473  +/-  0.0 
VxcUnique                                           True 
VxcAvgStdev                  -11.9438454242455  +/-  0.0 
TotalEnergyUnique                                   True 
TotalEnergyAvgStdev          -76.4689952587492  +/-  0.0 
Name: 102, dtype: object
FittedDensityUnique                                 True 
FittedDensityAvgStdev         9.99943851759404  +/-  0.0 
FunctionalEnergyUnique                              True 
FunctionalEnergyAvgStdev     -9.31989362531469  +/-  0.0 
VxcUnique                                           True 
VxcAvgStdev                  -11.9438454242453  +/-  0.0 
TotalEnergyUnique                                   True 
TotalEnergyAvgStdev          -76.4689952588814  +/-  0.0 
Name: 103, dtype: object

H2O  Model:  1  dynamic 
FittedDensityUnique                                 True 
FittedDensityAvgStdev         9.99943851759435  +/-  0.0 
FunctionalEnergyUnique                              True 
FunctionalEnergyAvgStdev     -9.31989362531192  +/-  0.0 
VxcUnique                                           True 
VxcAvgStdev                  -11.9438454242418  +/-  0.0 
TotalEnergyUnique                                   True 
TotalEnergyAvgStdev          -76.4689952588453  +/-  0.0 
Name: 64, dtype: object
FittedDensityUnique                                 True 
FittedDensityAvgStdev         9.99943851759429  +/-  0.0 
FunctionalEnergyUnique                              True 
FunctionalEnergyAvgStdev     -9.31989362531647  +/-  0.0 
VxcUnique                                           True 
VxcAvgStdev                  -11.9438454242476  +/-  0.0 
TotalEnergyUnique                                   True 
TotalEnergyAvgStdev          -76.4689952589256  +/-  0.0 
Name: 65, dtype: object
FittedDensityUnique                                                    False 
FittedDensityAvgStdev          9.999438517594314  +/-  6.484310776657757e-14 
FunctionalEnergyUnique                                                 False 
FunctionalEnergyAvgStdev       -9.31989362531812  +/-  1.580069658275064e-12 
VxcUnique                                                              False 
VxcAvgStdev                   -11.94384542424985  +/-  2.050804163417251e-12 
TotalEnergyUnique                                                      False 
TotalEnergyAvgStdev          -76.46899525877015  +/-  1.4775025647395523e-10 
Name: 66, dtype: object
FittedDensityUnique                                                    False 
FittedDensityAvgStdev         9.999438517594303  +/-  2.9850195471139505e-13 
FunctionalEnergyUnique                                                 False 
FunctionalEnergyAvgStdev      -9.319893625317475  +/-  2.168468285591443e-12 
VxcUnique                                                              False 
VxcAvgStdev                  -11.943845424248968  +/-  2.812676561179517e-12 
TotalEnergyUnique                                                      False 
TotalEnergyAvgStdev          -76.46899525897956  +/-  1.2623614920920226e-10 
Name: 67, dtype: object
FittedDensityUnique                                 True 
FittedDensityAvgStdev         9.99943851759437  +/-  0.0 
FunctionalEnergyUnique                              True 
FunctionalEnergyAvgStdev      -9.3198936253217  +/-  0.0 
VxcUnique                                           True 
VxcAvgStdev                  -11.9438454242545  +/-  0.0 
TotalEnergyUnique                                   True 
TotalEnergyAvgStdev          -76.4689952587082  +/-  0.0 
Name: 68, dtype: object
FittedDensityUnique                                 True 
FittedDensityAvgStdev         9.99943851759437  +/-  0.0 
FunctionalEnergyUnique                              True 
FunctionalEnergyAvgStdev     -9.31989362531703  +/-  0.0 
VxcUnique                                           True 
VxcAvgStdev                  -11.9438454242484  +/-  0.0 
TotalEnergyUnique                                   True 
TotalEnergyAvgStdev          -76.4689952585196  +/-  0.0 
Name: 69, dtype: object
FittedDensityUnique                                 True 
FittedDensityAvgStdev         9.99943851759397  +/-  0.0 
FunctionalEnergyUnique                              True 
FunctionalEnergyAvgStdev     -9.31989362531473  +/-  0.0 
VxcUnique                                           True 
VxcAvgStdev                  -11.9438454242455  +/-  0.0 
TotalEnergyUnique                                   True 
TotalEnergyAvgStdev          -76.4689952587492  +/-  0.0 
Name: 70, dtype: object
FittedDensityUnique                                 True 
FittedDensityAvgStdev         9.99943851759404  +/-  0.0 
FunctionalEnergyUnique                              True 
FunctionalEnergyAvgStdev     -9.31989362531469  +/-  0.0 
VxcUnique                                           True 
VxcAvgStdev                  -11.9438454242453  +/-  0.0 
TotalEnergyUnique                                   True 
TotalEnergyAvgStdev          -76.4689952588814  +/-  0.0 
Name: 71, dtype: object

H2O  Model:  2  static 
FittedDensityUnique                                 True 
FittedDensityAvgStdev         9.99943851759435  +/-  0.0 
FunctionalEnergyUnique                              True 
FunctionalEnergyAvgStdev     -9.31989362531192  +/-  0.0 
VxcUnique                                           True 
VxcAvgStdev                  -11.9438454242418  +/-  0.0 
TotalEnergyUnique                                   True 
TotalEnergyAvgStdev          -76.4689952588453  +/-  0.0 
Name: 104, dtype: object
FittedDensityUnique                                 True 
FittedDensityAvgStdev         9.99943851759429  +/-  0.0 
FunctionalEnergyUnique                              True 
FunctionalEnergyAvgStdev     -9.31989362531647  +/-  0.0 
VxcUnique                                           True 
VxcAvgStdev                  -11.9438454242476  +/-  0.0 
TotalEnergyUnique                                   True 
TotalEnergyAvgStdev          -76.4689952589256  +/-  0.0 
Name: 105, dtype: object
FittedDensityUnique                                                    False 
FittedDensityAvgStdev         9.999438517594125  +/-  1.2523630670697757e-13 
FunctionalEnergyUnique                                                 False 
FunctionalEnergyAvgStdev      -9.319893625317544  +/-  2.155609207590857e-12 
VxcUnique                                                              False 
VxcAvgStdev                  -11.943845424249101  +/-  2.8004266981610532e...
TotalEnergyUnique                                                      False 
TotalEnergyAvgStdev           -76.4689952587124  +/-  2.0550317003653618e-10 
Name: 106, dtype: object
FittedDensityUnique                                                    True 
FittedDensityAvgStdev                            9.99943851759468  +/-  0.0 
FunctionalEnergyUnique                                                 True 
FunctionalEnergyAvgStdev                        -9.31989362531442  +/-  0.0 
VxcUnique                                                              True 
VxcAvgStdev                                      -11.943845424245  +/-  0.0 
TotalEnergyUnique                                                     False 
TotalEnergyAvgStdev          -76.4689952587827  +/-  2.4101609596982598e-11 
Name: 107, dtype: object
FittedDensityUnique                                 True 
FittedDensityAvgStdev         9.99943851759437  +/-  0.0 
FunctionalEnergyUnique                              True 
FunctionalEnergyAvgStdev      -9.3198936253217  +/-  0.0 
VxcUnique                                           True 
VxcAvgStdev                  -11.9438454242545  +/-  0.0 
TotalEnergyUnique                                   True 
TotalEnergyAvgStdev          -76.4689952587082  +/-  0.0 
Name: 108, dtype: object
FittedDensityUnique                                 True 
FittedDensityAvgStdev         9.99943851759437  +/-  0.0 
FunctionalEnergyUnique                              True 
FunctionalEnergyAvgStdev     -9.31989362531703  +/-  0.0 
VxcUnique                                           True 
VxcAvgStdev                  -11.9438454242484  +/-  0.0 
TotalEnergyUnique                                   True 
TotalEnergyAvgStdev          -76.4689952585196  +/-  0.0 
Name: 109, dtype: object
FittedDensityUnique                                 True 
FittedDensityAvgStdev         9.99943851759397  +/-  0.0 
FunctionalEnergyUnique                              True 
FunctionalEnergyAvgStdev     -9.31989362531473  +/-  0.0 
VxcUnique                                           True 
VxcAvgStdev                  -11.9438454242455  +/-  0.0 
TotalEnergyUnique                                   True 
TotalEnergyAvgStdev          -76.4689952587492  +/-  0.0 
Name: 110, dtype: object
FittedDensityUnique                                 True 
FittedDensityAvgStdev         9.99943851759404  +/-  0.0 
FunctionalEnergyUnique                              True 
FunctionalEnergyAvgStdev     -9.31989362531469  +/-  0.0 
VxcUnique                                           True 
VxcAvgStdev                  -11.9438454242453  +/-  0.0 
TotalEnergyUnique                                   True 
TotalEnergyAvgStdev          -76.4689952588814  +/-  0.0 
Name: 111, dtype: object

H2O  Model:  2  dynamic 
FittedDensityUnique                                 True 
FittedDensityAvgStdev         9.99943851759435  +/-  0.0 
FunctionalEnergyUnique                              True 
FunctionalEnergyAvgStdev     -9.31989362531192  +/-  0.0 
VxcUnique                                           True 
VxcAvgStdev                  -11.9438454242418  +/-  0.0 
TotalEnergyUnique                                   True 
TotalEnergyAvgStdev          -76.4689952588453  +/-  0.0 
Name: 72, dtype: object
FittedDensityUnique                                 True 
FittedDensityAvgStdev         9.99943851759429  +/-  0.0 
FunctionalEnergyUnique                              True 
FunctionalEnergyAvgStdev     -9.31989362531647  +/-  0.0 
VxcUnique                                           True 
VxcAvgStdev                  -11.9438454242476  +/-  0.0 
TotalEnergyUnique                                   True 
TotalEnergyAvgStdev          -76.4689952589256  +/-  0.0 
Name: 73, dtype: object
FittedDensityUnique                                 True 
FittedDensityAvgStdev         9.99943851759425  +/-  0.0 
FunctionalEnergyUnique                              True 
FunctionalEnergyAvgStdev      -9.3198936253197  +/-  0.0 
VxcUnique                                           True 
VxcAvgStdev                  -11.9438454242519  +/-  0.0 
TotalEnergyUnique                                   True 
TotalEnergyAvgStdev          -76.4689952589179  +/-  0.0 
Name: 74, dtype: object
FittedDensityUnique                                                   False 
FittedDensityAvgStdev        9.999438517594566  +/-  1.1457845864161411e-13 
FunctionalEnergyUnique                                                False 
FunctionalEnergyAvgStdev     -9.31989362531598  +/-  1.5605297361673453e-12 
VxcUnique                                                             False 
VxcAvgStdev                  -11.94384542424705  +/-  2.049915792667889e-12 
TotalEnergyUnique                                                     False 
TotalEnergyAvgStdev           -76.4689952588072  +/-  3.979039320256561e-13 
Name: 75, dtype: object
FittedDensityUnique                                 True 
FittedDensityAvgStdev         9.99943851759437  +/-  0.0 
FunctionalEnergyUnique                              True 
FunctionalEnergyAvgStdev      -9.3198936253217  +/-  0.0 
VxcUnique                                           True 
VxcAvgStdev                  -11.9438454242545  +/-  0.0 
TotalEnergyUnique                                   True 
TotalEnergyAvgStdev          -76.4689952587082  +/-  0.0 
Name: 76, dtype: object
FittedDensityUnique                                 True 
FittedDensityAvgStdev         9.99943851759437  +/-  0.0 
FunctionalEnergyUnique                              True 
FunctionalEnergyAvgStdev     -9.31989362531703  +/-  0.0 
VxcUnique                                           True 
VxcAvgStdev                  -11.9438454242484  +/-  0.0 
TotalEnergyUnique                                   True 
TotalEnergyAvgStdev          -76.4689952585196  +/-  0.0 
Name: 77, dtype: object
FittedDensityUnique                                 True 
FittedDensityAvgStdev         9.99943851759397  +/-  0.0 
FunctionalEnergyUnique                              True 
FunctionalEnergyAvgStdev     -9.31989362531473  +/-  0.0 
VxcUnique                                           True 
VxcAvgStdev                  -11.9438454242455  +/-  0.0 
TotalEnergyUnique                                   True 
TotalEnergyAvgStdev          -76.4689952587492  +/-  0.0 
Name: 78, dtype: object
FittedDensityUnique                                 True 
FittedDensityAvgStdev         9.99943851759404  +/-  0.0 
FunctionalEnergyUnique                              True 
FunctionalEnergyAvgStdev     -9.31989362531469  +/-  0.0 
VxcUnique                                           True 
VxcAvgStdev                  -11.9438454242453  +/-  0.0 
TotalEnergyUnique                                   True 
TotalEnergyAvgStdev          -76.4689952588814  +/-  0.0 
Name: 79, dtype: object

H2O  Model:  3  static 
FittedDensityUnique                                 True 
FittedDensityAvgStdev         9.99943851759435  +/-  0.0 
FunctionalEnergyUnique                              True 
FunctionalEnergyAvgStdev     -9.31989362531192  +/-  0.0 
VxcUnique                                           True 
VxcAvgStdev                  -11.9438454242418  +/-  0.0 
TotalEnergyUnique                                   True 
TotalEnergyAvgStdev          -76.4689952588453  +/-  0.0 
Name: 112, dtype: object
FittedDensityUnique                                 True 
FittedDensityAvgStdev         9.99943851759429  +/-  0.0 
FunctionalEnergyUnique                              True 
FunctionalEnergyAvgStdev     -9.31989362531647  +/-  0.0 
VxcUnique                                           True 
VxcAvgStdev                  -11.9438454242476  +/-  0.0 
TotalEnergyUnique                                   True 
TotalEnergyAvgStdev          -76.4689952589256  +/-  0.0 
Name: 113, dtype: object
FittedDensityUnique                                                    False 
FittedDensityAvgStdev          9.99943851759442  +/-  1.7053025658242404e-13 
FunctionalEnergyUnique                                                 False 
FunctionalEnergyAvgStdev     -9.319893625317935  +/-  1.7648107434414724e-12 
VxcUnique                                                              False 
VxcAvgStdev                   -11.9438454242496  +/-  2.3003821070233244e-12 
TotalEnergyUnique                                                      False 
TotalEnergyAvgStdev            -76.4689952588687  +/-  4.919797902402934e-11 
Name: 114, dtype: object
FittedDensityUnique                                                   False 
FittedDensityAvgStdev        9.999438517594566  +/-  1.1457845864161411e-13 
FunctionalEnergyUnique                                                False 
FunctionalEnergyAvgStdev     -9.31989362531598  +/-  1.5605297361673453e-12 
VxcUnique                                                             False 
VxcAvgStdev                  -11.94384542424705  +/-  2.049915792667889e-12 
TotalEnergyUnique                                                     False 
TotalEnergyAvgStdev           -76.4689952588553  +/-  5.996664922147191e-11 
Name: 115, dtype: object
FittedDensityUnique                                 True 
FittedDensityAvgStdev         9.99943851759437  +/-  0.0 
FunctionalEnergyUnique                              True 
FunctionalEnergyAvgStdev      -9.3198936253217  +/-  0.0 
VxcUnique                                           True 
VxcAvgStdev                  -11.9438454242545  +/-  0.0 
TotalEnergyUnique                                   True 
TotalEnergyAvgStdev          -76.4689952587082  +/-  0.0 
Name: 116, dtype: object
FittedDensityUnique                                 True 
FittedDensityAvgStdev         9.99943851759437  +/-  0.0 
FunctionalEnergyUnique                              True 
FunctionalEnergyAvgStdev     -9.31989362531703  +/-  0.0 
VxcUnique                                           True 
VxcAvgStdev                  -11.9438454242484  +/-  0.0 
TotalEnergyUnique                                   True 
TotalEnergyAvgStdev          -76.4689952585196  +/-  0.0 
Name: 117, dtype: object
FittedDensityUnique                                 True 
FittedDensityAvgStdev         9.99943851759397  +/-  0.0 
FunctionalEnergyUnique                              True 
FunctionalEnergyAvgStdev     -9.31989362531473  +/-  0.0 
VxcUnique                                           True 
VxcAvgStdev                  -11.9438454242455  +/-  0.0 
TotalEnergyUnique                                   True 
TotalEnergyAvgStdev          -76.4689952587492  +/-  0.0 
Name: 118, dtype: object
FittedDensityUnique                                 True 
FittedDensityAvgStdev         9.99943851759404  +/-  0.0 
FunctionalEnergyUnique                              True 
FunctionalEnergyAvgStdev     -9.31989362531469  +/-  0.0 
VxcUnique                                           True 
VxcAvgStdev                  -11.9438454242453  +/-  0.0 
TotalEnergyUnique                                   True 
TotalEnergyAvgStdev          -76.4689952588814  +/-  0.0 
Name: 119, dtype: object

H2O  Model:  3  dynamic 
FittedDensityUnique                                 True 
FittedDensityAvgStdev         9.99943851759435  +/-  0.0 
FunctionalEnergyUnique                              True 
FunctionalEnergyAvgStdev     -9.31989362531192  +/-  0.0 
VxcUnique                                           True 
VxcAvgStdev                  -11.9438454242418  +/-  0.0 
TotalEnergyUnique                                   True 
TotalEnergyAvgStdev          -76.4689952588453  +/-  0.0 
Name: 80, dtype: object
FittedDensityUnique                                 True 
FittedDensityAvgStdev         9.99943851759429  +/-  0.0 
FunctionalEnergyUnique                              True 
FunctionalEnergyAvgStdev     -9.31989362531647  +/-  0.0 
VxcUnique                                           True 
VxcAvgStdev                  -11.9438454242476  +/-  0.0 
TotalEnergyUnique                                   True 
TotalEnergyAvgStdev          -76.4689952589256  +/-  0.0 
Name: 81, dtype: object
FittedDensityUnique                                 True 
FittedDensityAvgStdev         9.99943851759425  +/-  0.0 
FunctionalEnergyUnique                              True 
FunctionalEnergyAvgStdev      -9.3198936253197  +/-  0.0 
VxcUnique                                           True 
VxcAvgStdev                  -11.9438454242519  +/-  0.0 
TotalEnergyUnique                                   True 
TotalEnergyAvgStdev          -76.4689952589179  +/-  0.0 
Name: 82, dtype: object
FittedDensityUnique                                                   False 
FittedDensityAvgStdev          9.99943851759458  +/-  9.947598300641403e-14 
FunctionalEnergyUnique                                                False 
FunctionalEnergyAvgStdev      -9.31989362531405  +/-  3.694822225952521e-13 
VxcUnique                                                             False 
VxcAvgStdev                   -11.9438454242445  +/-  5.000452390813297e-13 
TotalEnergyUnique                                                     False 
TotalEnergyAvgStdev          -76.46899525868974  +/-  1.170477050774302e-10 
Name: 83, dtype: object
FittedDensityUnique                                 True 
FittedDensityAvgStdev         9.99943851759437  +/-  0.0 
FunctionalEnergyUnique                              True 
FunctionalEnergyAvgStdev      -9.3198936253217  +/-  0.0 
VxcUnique                                           True 
VxcAvgStdev                  -11.9438454242545  +/-  0.0 
TotalEnergyUnique                                   True 
TotalEnergyAvgStdev          -76.4689952587082  +/-  0.0 
Name: 84, dtype: object
FittedDensityUnique                                 True 
FittedDensityAvgStdev         9.99943851759437  +/-  0.0 
FunctionalEnergyUnique                              True 
FunctionalEnergyAvgStdev     -9.31989362531703  +/-  0.0 
VxcUnique                                           True 
VxcAvgStdev                  -11.9438454242484  +/-  0.0 
TotalEnergyUnique                                   True 
TotalEnergyAvgStdev          -76.4689952585196  +/-  0.0 
Name: 85, dtype: object
FittedDensityUnique                                 True 
FittedDensityAvgStdev         9.99943851759397  +/-  0.0 
FunctionalEnergyUnique                              True 
FunctionalEnergyAvgStdev     -9.31989362531473  +/-  0.0 
VxcUnique                                           True 
VxcAvgStdev                  -11.9438454242455  +/-  0.0 
TotalEnergyUnique                                   True 
TotalEnergyAvgStdev          -76.4689952587492  +/-  0.0 
Name: 86, dtype: object
FittedDensityUnique                                 True 
FittedDensityAvgStdev         9.99943851759404  +/-  0.0 
FunctionalEnergyUnique                              True 
FunctionalEnergyAvgStdev     -9.31989362531469  +/-  0.0 
VxcUnique                                           True 
VxcAvgStdev                  -11.9438454242453  +/-  0.0 
TotalEnergyUnique                                   True 
TotalEnergyAvgStdev          -76.4689952588814  +/-  0.0 
Name: 87, dtype: object

H2O  Model:  4  static 
FittedDensityUnique                                 True 
FittedDensityAvgStdev         9.99943851759435  +/-  0.0 
FunctionalEnergyUnique                              True 
FunctionalEnergyAvgStdev     -9.31989362531192  +/-  0.0 
VxcUnique                                           True 
VxcAvgStdev                  -11.9438454242418  +/-  0.0 
TotalEnergyUnique                                   True 
TotalEnergyAvgStdev          -76.4689952588453  +/-  0.0 
Name: 120, dtype: object
FittedDensityUnique                                 True 
FittedDensityAvgStdev         9.99943851759429  +/-  0.0 
FunctionalEnergyUnique                              True 
FunctionalEnergyAvgStdev     -9.31989362531647  +/-  0.0 
VxcUnique                                           True 
VxcAvgStdev                  -11.9438454242476  +/-  0.0 
TotalEnergyUnique                                   True 
TotalEnergyAvgStdev          -76.4689952589256  +/-  0.0 
Name: 121, dtype: object
FittedDensityUnique                                 True 
FittedDensityAvgStdev         9.99943851759425  +/-  0.0 
FunctionalEnergyUnique                              True 
FunctionalEnergyAvgStdev      -9.3198936253197  +/-  0.0 
VxcUnique                                           True 
VxcAvgStdev                  -11.9438454242519  +/-  0.0 
TotalEnergyUnique                                   True 
TotalEnergyAvgStdev          -76.4689952589179  +/-  0.0 
Name: 122, dtype: object
FittedDensityUnique                                                    True 
FittedDensityAvgStdev                            9.99943851759468  +/-  0.0 
FunctionalEnergyUnique                                                 True 
FunctionalEnergyAvgStdev                        -9.31989362531442  +/-  0.0 
VxcUnique                                                              True 
VxcAvgStdev                                      -11.943845424245  +/-  0.0 
TotalEnergyUnique                                                     False 
TotalEnergyAvgStdev          -76.46899525881305  +/-  6.252776074688882e-12 
Name: 123, dtype: object
FittedDensityUnique                                 True 
FittedDensityAvgStdev         9.99943851759437  +/-  0.0 
FunctionalEnergyUnique                              True 
FunctionalEnergyAvgStdev      -9.3198936253217  +/-  0.0 
VxcUnique                                           True 
VxcAvgStdev                  -11.9438454242545  +/-  0.0 
TotalEnergyUnique                                   True 
TotalEnergyAvgStdev          -76.4689952587082  +/-  0.0 
Name: 124, dtype: object
FittedDensityUnique                                 True 
FittedDensityAvgStdev         9.99943851759437  +/-  0.0 
FunctionalEnergyUnique                              True 
FunctionalEnergyAvgStdev     -9.31989362531703  +/-  0.0 
VxcUnique                                           True 
VxcAvgStdev                  -11.9438454242484  +/-  0.0 
TotalEnergyUnique                                   True 
TotalEnergyAvgStdev          -76.4689952585196  +/-  0.0 
Name: 125, dtype: object
FittedDensityUnique                                 True 
FittedDensityAvgStdev         9.99943851759397  +/-  0.0 
FunctionalEnergyUnique                              True 
FunctionalEnergyAvgStdev     -9.31989362531473  +/-  0.0 
VxcUnique                                           True 
VxcAvgStdev                  -11.9438454242455  +/-  0.0 
TotalEnergyUnique                                   True 
TotalEnergyAvgStdev          -76.4689952587492  +/-  0.0 
Name: 126, dtype: object
FittedDensityUnique                                 True 
FittedDensityAvgStdev         9.99943851759404  +/-  0.0 
FunctionalEnergyUnique                              True 
FunctionalEnergyAvgStdev     -9.31989362531469  +/-  0.0 
VxcUnique                                           True 
VxcAvgStdev                  -11.9438454242453  +/-  0.0 
TotalEnergyUnique                                   True 
TotalEnergyAvgStdev          -76.4689952588814  +/-  0.0 
Name: 127, dtype: object

H2O  Model:  4  dynamic 
FittedDensityUnique                                 True 
FittedDensityAvgStdev         9.99943851759435  +/-  0.0 
FunctionalEnergyUnique                              True 
FunctionalEnergyAvgStdev     -9.31989362531192  +/-  0.0 
VxcUnique                                           True 
VxcAvgStdev                  -11.9438454242418  +/-  0.0 
TotalEnergyUnique                                   True 
TotalEnergyAvgStdev          -76.4689952588453  +/-  0.0 
Name: 88, dtype: object
FittedDensityUnique                                 True 
FittedDensityAvgStdev         9.99943851759429  +/-  0.0 
FunctionalEnergyUnique                              True 
FunctionalEnergyAvgStdev     -9.31989362531647  +/-  0.0 
VxcUnique                                           True 
VxcAvgStdev                  -11.9438454242476  +/-  0.0 
TotalEnergyUnique                                   True 
TotalEnergyAvgStdev          -76.4689952589256  +/-  0.0 
Name: 89, dtype: object
FittedDensityUnique                                                    False 
FittedDensityAvgStdev          9.999438517594484  +/-  2.353689570229064e-13 
FunctionalEnergyUnique                                                 False 
FunctionalEnergyAvgStdev        -9.3198936253179  +/-  1.800337875819072e-12 
VxcUnique                                                              False 
VxcAvgStdev                  -11.94384542424955  +/-  2.3501200985265314e-12 
TotalEnergyUnique                                                      False 
TotalEnergyAvgStdev           -76.4689952586473  +/-  2.7060309548687655e-10 
Name: 90, dtype: object
FittedDensityUnique                                                    False 
FittedDensityAvgStdev         9.999438517594452  +/-  1.6364672318883415e-13 
FunctionalEnergyUnique                                                 False 
FunctionalEnergyAvgStdev     -9.319893625315439  +/-  1.0898698380925428e-12 
VxcUnique                                                              False 
VxcAvgStdev                   -11.9438454242463  +/-  1.3740354586995436e-12 
TotalEnergyUnique                                                      False 
TotalEnergyAvgStdev           -76.46899525888564  +/-  1.504509868827836e-10 
Name: 91, dtype: object
FittedDensityUnique                                 True 
FittedDensityAvgStdev         9.99943851759437  +/-  0.0 
FunctionalEnergyUnique                              True 
FunctionalEnergyAvgStdev      -9.3198936253217  +/-  0.0 
VxcUnique                                           True 
VxcAvgStdev                  -11.9438454242545  +/-  0.0 
TotalEnergyUnique                                   True 
TotalEnergyAvgStdev          -76.4689952587082  +/-  0.0 
Name: 92, dtype: object
FittedDensityUnique                                 True 
FittedDensityAvgStdev         9.99943851759437  +/-  0.0 
FunctionalEnergyUnique                              True 
FunctionalEnergyAvgStdev     -9.31989362531703  +/-  0.0 
VxcUnique                                           True 
VxcAvgStdev                  -11.9438454242484  +/-  0.0 
TotalEnergyUnique                                   True 
TotalEnergyAvgStdev          -76.4689952585196  +/-  0.0 
Name: 93, dtype: object
FittedDensityUnique                                 True 
FittedDensityAvgStdev         9.99943851759397  +/-  0.0 
FunctionalEnergyUnique                              True 
FunctionalEnergyAvgStdev     -9.31989362531473  +/-  0.0 
VxcUnique                                           True 
VxcAvgStdev                  -11.9438454242455  +/-  0.0 
TotalEnergyUnique                                   True 
TotalEnergyAvgStdev          -76.4689952587492  +/-  0.0 
Name: 94, dtype: object
FittedDensityUnique                                 True 
FittedDensityAvgStdev         9.99943851759404  +/-  0.0 
FunctionalEnergyUnique                              True 
FunctionalEnergyAvgStdev     -9.31989362531469  +/-  0.0 
VxcUnique                                           True 
VxcAvgStdev                  -11.9438454242453  +/-  0.0 
TotalEnergyUnique                                   True 
TotalEnergyAvgStdev          -76.4689952588814  +/-  0.0 
Name: 95, dtype: object

